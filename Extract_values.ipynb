{
  "nbformat": 4,
  "nbformat_minor": 0,
  "metadata": {
    "colab": {
      "provenance": [],
      "include_colab_link": true
    },
    "kernelspec": {
      "name": "python3",
      "display_name": "Python 3"
    },
    "language_info": {
      "name": "python"
    }
  },
  "cells": [
    {
      "cell_type": "markdown",
      "metadata": {
        "id": "view-in-github",
        "colab_type": "text"
      },
      "source": [
        "<a href=\"https://colab.research.google.com/github/meghorikawa/ULLM/blob/main/Extract_values.ipynb\" target=\"_parent\"><img src=\"https://colab.research.google.com/assets/colab-badge.svg\" alt=\"Open In Colab\"/></a>"
      ]
    },
    {
      "cell_type": "code",
      "execution_count": null,
      "metadata": {
        "id": "QCrY4SC7eBWW"
      },
      "outputs": [],
      "source": [
        "import pandas as pd\n",
        "import json"
      ]
    },
    {
      "cell_type": "code",
      "source": [
        "athletes = pd.read_csv(\"/content/athletes_df_COT_completions.csv\") # aslo load FS_completions csv to parse\n",
        "bday = pd.read_csv(\"/content/bday_df_COT_completions.csv\") # also need to load FS_completions csv to parse\n",
        "\n",
        "athletes_properties = [\"relevance\", \"factual\", \"construct_present\"] # Athletes task requires factuality property\n",
        "bday_properties = [\"relevance\", \"construct\"] # Birthday task requires no factuality checks"
      ],
      "metadata": {
        "id": "fxhI8OoueXq4"
      },
      "execution_count": null,
      "outputs": []
    },
    {
      "cell_type": "code",
      "source": [
        "def create_columns(df):\n",
        "  \"\"\"\n",
        "  Create the necessary columns for the dataframe: one for each property/prompting-strategy combination\n",
        "  \"\"\"\n",
        "  properties =  []\n",
        "  if df is athletes:\n",
        "    properties = athletes_properties\n",
        "  else:\n",
        "    properties = bday_properties\n",
        "\n",
        "  strategies = [\"FS\", \"COT\"]\n",
        "  for strat in strategies:\n",
        "    for prop in properties:\n",
        "      for k in range(0, 6):\n",
        "        df[f\"{prop}_{strat}_{str(k)}\"] = \"\""
      ],
      "metadata": {
        "id": "0i6H8bdDejYt"
      },
      "execution_count": null,
      "outputs": []
    },
    {
      "cell_type": "code",
      "source": [
        "create_columns(athletes)\n",
        "create_columns(bday)"
      ],
      "metadata": {
        "id": "Pk9NqZFLzT_1"
      },
      "execution_count": null,
      "outputs": []
    },
    {
      "cell_type": "code",
      "source": [
        "def fill_out_df(df):\n",
        "  \"\"\"\n",
        "  Fills out the dtaframe with the values present in the LLM's JSON responses\n",
        "  \"\"\"\n",
        "  properties =  []\n",
        "  if df is athletes:\n",
        "    properties = athletes_properties\n",
        "  else:\n",
        "    properties = bday_properties\n",
        "\n",
        "  # at each row\n",
        "  for r_idx, row in df.iterrows():\n",
        "    #iterate over the columns with JSON\n",
        "    for col in df.filter(regex = \"(ComparingAthletes|BirthdayPresent)_(FS|COT)_[0-9]\").columns:\n",
        "      #get the JSON present in that column and parse it\n",
        "      try:\n",
        "        json_str = df.loc[r_idx, col]\n",
        "        if \"'\" in json_str:\n",
        "          # The model sometimes has internal quotes or double quotes which are unescaped: escape them\n",
        "          json_str = json_str.replace(\"'\", \"\\'\")\n",
        "        lm_resp_json = json.loads(json_str)\n",
        "\n",
        "        #get the task name, prompting strategy and k (k-shot) values from the name of the column\n",
        "        task = col.split(\"_\")[0]\n",
        "        strat = col.split(\"_\")[1]\n",
        "        k = col.split(\"_\")[2]\n",
        "\n",
        "        # extract the properties from the JSON and put them in the correct column\n",
        "        for prop in properties:\n",
        "          df.loc[r_idx, f\"{prop}_{strat}_{k}\"] = lm_resp_json[prop]\n",
        "\n",
        "      except Exception as e: # If there is a problem parsing the JSON, print the content and the row for examination\n",
        "        df.loc[r_idx, col] = \"\"\n",
        "        print(e)\n",
        "        print(\"Could not parse row: \", r_idx, \"\\n\\nContent:\", row[col], \"\\n\\n\", col, \"\\n____________\\n\")\n",
        "\n"
      ],
      "metadata": {
        "id": "J4YOrmb_hkn8"
      },
      "execution_count": null,
      "outputs": []
    },
    {
      "cell_type": "code",
      "source": [
        "from json.decoder import JSONDecodeError\n",
        "def clean_faulty_json(json_str, properties, df, r_idx, col):\n",
        "  try:\n",
        "    lm_resp_json = json.loads(json_str)\n",
        "\n",
        "  except JSONDecodeError: # If there is a problem parsing the JSON, print the content and the row for examination\n",
        "\n",
        "    print(e)\n",
        "    try:\n",
        "      single_quoted_val = json_str.split(\"thought\")\n",
        "    except:\n",
        "      df.loc[r_idx, col] = \"\"\n",
        "      print(\"Could not parse row: \", r_idx, \"\\n\\nContent:\", row[col], \"\\n\\n\", col, \"\\n____________\\n\")\n"
      ],
      "metadata": {
        "id": "9UCc9OgveRtP"
      },
      "execution_count": null,
      "outputs": []
    },
    {
      "cell_type": "code",
      "source": [
        "# Parse the JSON completions into seperate columns\n",
        "fill_out_df(athletes)"
      ],
      "metadata": {
        "id": "oJ9Vt12NdSN0"
      },
      "execution_count": null,
      "outputs": []
    },
    {
      "cell_type": "code",
      "source": [
        "# Parse the JSON completions into seperate columns\n",
        "fill_out_df(bday)"
      ],
      "metadata": {
        "id": "T52PVZTwdVAv"
      },
      "execution_count": null,
      "outputs": []
    },
    {
      "cell_type": "code",
      "source": [
        "# Save DF\n",
        "athletes.to_csv(\"/content/athletes_df_COT_parsed.csv\")\n"
      ],
      "metadata": {
        "id": "6v7sljZbI3hv"
      },
      "execution_count": null,
      "outputs": []
    },
    {
      "cell_type": "code",
      "source": [
        "# Save DF\n",
        "bday.to_csv(\"/content/bday_df_COT_parsed.csv\")"
      ],
      "metadata": {
        "id": "bjEiQ7z0eEW4"
      },
      "execution_count": null,
      "outputs": []
    }
  ]
}